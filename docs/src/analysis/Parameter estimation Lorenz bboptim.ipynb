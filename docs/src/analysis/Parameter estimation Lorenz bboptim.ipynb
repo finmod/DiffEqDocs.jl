{
 "cells": [
  {
   "cell_type": "markdown",
   "metadata": {},
   "source": [
    "# Parameter Estimation\n",
    "\n",
    "Parameter estimation for ODE models is provided by the JuliaDiffEq suite. The current functionality includes build_loss_objective. Note that these require that the problem be defined using a [ParameterizedFunction](https://github.com/JuliaDiffEq/ParameterizedFunctions.jl):\n",
    "\n",
    "\n",
    "## Setting up the parameter estimation problem\n",
    "\n",
    "Let's try parameter estimation for an ODE on the challenging Lorenz attractor. We base our implementation on the code from Paulo Marques available at: https://github.com/pjpmarques/Julia-Modeling-the-World/blob/master/Lorenz%20Attractor.ipynb and on the global optimization method provided by BlackBoxOptim.\n",
    "\n",
    "The system is formally described by three different differential equations. These equations represent the movement\n",
    "of a point $(x, y, z)$ in space over time. In the following equations, $t$ represents time, $\\sigma$, $\\rho$, $\\beta$ are constants.\n",
    "\n",
    "$$ \\begin{align}\n",
    "    \\frac{dx}{dt} &= \\sigma (y - x) \\\\\n",
    "    \\frac{dy}{dt} &= x (\\rho - z) - y \\\\\n",
    "    \\frac{dz}{dt} &= x y - bz\n",
    "\\end{align} $$\n",
    "\n",
    "\n",
    "Or in matrix form:\n",
    "\n",
    "$$ \\begin{pmatrix}\n",
    "\\dot{x} \\\\\n",
    "\\dot{y} \\\\\n",
    "\\dot{z}\n",
    "\\end{pmatrix} = \n",
    "\\begin{pmatrix}\n",
    "- \\sigma & \\sigma & 0 \\\\\n",
    "r - z & -1 & - x \\\\\n",
    "y & x & -b\n",
    "\\end{pmatrix}\n",
    "\\begin{pmatrix}\n",
    "x \\\\\n",
    "y \\\\\n",
    "z\n",
    "\\end{pmatrix}$$"
   ]
  },
  {
   "cell_type": "markdown",
   "metadata": {},
   "source": [
    "True parameters: $\\sigma$, $\\rho$ and $\\beta$ are used to construct the dataset. In the estimation problem of the ODE system, these are unknown and should be estimated."
   ]
  },
  {
   "cell_type": "code",
   "execution_count": 1,
   "metadata": {},
   "outputs": [
    {
     "name": "stderr",
     "output_type": "stream",
     "text": [
      "\u001b[1m\u001b[34mINFO: Precompiling module SteadyStateDiffEq.\n",
      "\u001b[0mWARNING: using BlackBoxOptim.Parameters in module Main conflicts with an existing identifier.\n"
     ]
    }
   ],
   "source": [
    "using DifferentialEquations, RecursiveArrayTools, BlackBoxOptim, Plots, GR"
   ]
  },
  {
   "cell_type": "code",
   "execution_count": 2,
   "metadata": {},
   "outputs": [
    {
     "data": {
      "text/plain": [
       "DiffEqBase.ODEProblem{Array{Float64,1},Float64,true,LorenzExample,Void,UniformScaling{Int64}}(LorenzExample,[0.1,0.0,0.0],(0.0,3.0),nothing,UniformScaling{Int64}\n",
       "1*I)"
      ]
     },
     "execution_count": 2,
     "metadata": {},
     "output_type": "execute_result"
    }
   ],
   "source": [
    "g1 = @ode_def_nohes LorenzExample begin\n",
    "  dx = σ*(y-x)\n",
    "  dy = x*(ρ-z) - y\n",
    "  dz = x*y - β*z\n",
    "end σ=>10.0 ρ=>28.0 β=>2.6666 # Parameters used to construct the dataset\n",
    "\n",
    "r0 = [0.1; 0.0; 0.0] # Initial values of the system in space\n",
    "tspan = (0.0, 4.0)\n",
    "prob = ODEProblem(g1, r0, tspan)\n",
    "tspan2 = (0.0, 3.0)\n",
    "prob_short = ODEProblem(g1, r0, tspan2)"
   ]
  },
  {
   "cell_type": "markdown",
   "metadata": {},
   "source": [
    "The second phase of parameter estimation consists in forming the dataset by integrating the dynamic system over a time/space interval. \n",
    "\n",
    "Define the time vector and the interval grid"
   ]
  },
  {
   "cell_type": "code",
   "execution_count": 3,
   "metadata": {},
   "outputs": [
    {
     "data": {
      "text/plain": [
       "4001-element Array{Float64,1}:\n",
       " 0.0  \n",
       " 0.001\n",
       " 0.002\n",
       " 0.003\n",
       " 0.004\n",
       " 0.005\n",
       " 0.006\n",
       " 0.007\n",
       " 0.008\n",
       " 0.009\n",
       " 0.01 \n",
       " 0.011\n",
       " 0.012\n",
       " ⋮    \n",
       " 3.989\n",
       " 3.99 \n",
       " 3.991\n",
       " 3.992\n",
       " 3.993\n",
       " 3.994\n",
       " 3.995\n",
       " 3.996\n",
       " 3.997\n",
       " 3.998\n",
       " 3.999\n",
       " 4.0  "
      ]
     },
     "execution_count": 3,
     "metadata": {},
     "output_type": "execute_result"
    }
   ],
   "source": [
    "dt = 0.001\n",
    "tf = 4.0\n",
    "tinterval = 0:dt:tf\n",
    "t  = collect(tinterval)"
   ]
  },
  {
   "cell_type": "markdown",
   "metadata": {},
   "source": [
    "But in order to compare to the parameter estimation in the [Xiang2015] paper, we also use their integration interval of 300 observations instead:"
   ]
  },
  {
   "cell_type": "code",
   "execution_count": 4,
   "metadata": {},
   "outputs": [
    {
     "data": {
      "text/plain": [
       "301-element Array{Float64,1}:\n",
       " 0.0 \n",
       " 0.01\n",
       " 0.02\n",
       " 0.03\n",
       " 0.04\n",
       " 0.05\n",
       " 0.06\n",
       " 0.07\n",
       " 0.08\n",
       " 0.09\n",
       " 0.1 \n",
       " 0.11\n",
       " 0.12\n",
       " ⋮   \n",
       " 2.89\n",
       " 2.9 \n",
       " 2.91\n",
       " 2.92\n",
       " 2.93\n",
       " 2.94\n",
       " 2.95\n",
       " 2.96\n",
       " 2.97\n",
       " 2.98\n",
       " 2.99\n",
       " 3.0 "
      ]
     },
     "execution_count": 4,
     "metadata": {},
     "output_type": "execute_result"
    }
   ],
   "source": [
    "h = 0.01\n",
    "M = 300\n",
    "tstart = 0.0\n",
    "tstop = tstart + M * h\n",
    "tinterval_short = 0:h:tstop\n",
    "t_short = collect(tinterval_short)"
   ]
  },
  {
   "cell_type": "markdown",
   "metadata": {},
   "source": [
    "Integrate the ODE system from a starting point and into the future given a sequence of time steps."
   ]
  },
  {
   "cell_type": "code",
   "execution_count": 5,
   "metadata": {},
   "outputs": [
    {
     "data": {
      "text/plain": [
       "3×301 Array{Float64,2}:\n",
       " 0.219786    0.0294109  -0.109138   …   -9.69472   -9.5985   -9.66211\n",
       " 0.0112789   0.0177511  -0.0564706     -10.1297   -10.1412  -10.043  \n",
       " 0.0177805  -0.134053   -0.105138       27.5026    27.9855   27.913  "
      ]
     },
     "execution_count": 5,
     "metadata": {},
     "output_type": "execute_result"
    }
   ],
   "source": [
    "#solve(prob_short,Euler(),tstops=t_short)\n",
    "sol = solve(prob_short,Vern7(),saveat=t_short,abstol=1e-12,reltol=1e-12)\n",
    "data_short = vecarr_to_arr(sol)\n",
    "data_short  .+= 0.1randn(size(data_short)) # adding noise to the data"
   ]
  },
  {
   "cell_type": "code",
   "execution_count": 6,
   "metadata": {},
   "outputs": [
    {
     "data": {
      "text/html": [
       "<img src=\"data:image/png;base64,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\" />"
      ]
     },
     "execution_count": 6,
     "metadata": {},
     "output_type": "execute_result"
    }
   ],
   "source": [
    "plot!(sol)                           # ,layout=(3,1),size=(800,600))\n",
    "scatter!(data_short)                 #t,data_short, layout=(3,1),size=(800,600))"
   ]
  },
  {
   "cell_type": "markdown",
   "metadata": {},
   "source": [
    "Calculate the actual/original state vectors that will be used for parameter estimation:"
   ]
  },
  {
   "cell_type": "code",
   "execution_count": 7,
   "metadata": {},
   "outputs": [
    {
     "data": {
      "text/plain": [
       "3×4001 Array{Float64,2}:\n",
       " -0.0134909   0.13573    -0.0236031  …  -7.39841  -7.33984  -7.20717\n",
       " -0.118708   -0.0617954   0.0891885     -7.86665  -7.8955   -7.82084\n",
       "  0.191345   -0.0129725  -0.0511599     24.8139   24.7443   24.829  "
      ]
     },
     "execution_count": 7,
     "metadata": {},
     "output_type": "execute_result"
    }
   ],
   "source": [
    "sol = solve(prob,Vern7(),saveat=t,abstol=1e-12,reltol=1e-12)\n",
    "data = vecarr_to_arr(sol)\n",
    "data  .+= 0.1randn(size(data)) # adding noise to the data"
   ]
  },
  {
   "cell_type": "markdown",
   "metadata": {},
   "source": [
    "The fundamental layout of the data matrix is: equations as rows and sequence of observations as columns:"
   ]
  },
  {
   "cell_type": "markdown",
   "metadata": {},
   "source": [
    "\n",
    "## Non Linear Programming as an estimation method"
   ]
  },
  {
   "cell_type": "markdown",
   "metadata": {},
   "source": [
    "The third phase of the parameter estimation problem is to set up the objective function of the NLP problem. The solution below should then be matched with build_loss_objective to simplify and standardize the NLP problem. The aim of build_loss_objective is to make the NLP problem compatible with solvers like Optim.jl and MathProgBase-associated solvers like NLopt.\n",
    "\n",
    "We have n observations $(\\boldsymbol{x}_i, y_i), i = 1,2...,n$, from a fixed-regressor nonlinear model with a known functional relationship $f$. Thus\n",
    "\n",
    "$$ \\begin{align}\n",
    "        y_i = f(\\boldsymbol{x}_i; \\boldsymbol{\\theta}^*) + \\epsilon_i & \\quad (i = 1,2,....,n)\n",
    "\\end{align} $$\n",
    "\n",
    "where $E[\\epsilon_i]$ = 0, $\\boldsymbol{x}_i$ is a k x 1 vector, and the true value $\\boldsymbol{\\theta}^*$ of $\\boldsymbol{\\theta}$ is known to belong to $\\boldsymbol{\\Theta}$, a subset of $R^p$. The nonlinear least squares estimate of $\\boldsymbol{\\theta}^*$, denoted by $\\boldsymbol{\\hat{\\theta}}$, minimizes the error sum of squares:\n",
    "\n",
    "$$ \\begin{align}\n",
    "S(\\boldsymbol{\\theta}) = \\sum_{i=1}^{n} [y_i - f(\\boldsymbol{x}_i;\\boldsymbol{\\theta})]^2 & \\quad   \\boldsymbol{\\theta} \\in \\boldsymbol{\\Theta}.\n",
    "\\end{align} $$\n",
    "\n",
    "With the notation $f_i(\\boldsymbol{\\theta})$ = $f(\\boldsymbol{x}_i;\\boldsymbol{\\theta})$ and $\\boldsymbol{f}(\\boldsymbol{\\theta})$ = $\\big($$f_1(\\boldsymbol{\\theta})$, $f_2(\\boldsymbol{\\theta})$,$\\dots$, $f_n(\\boldsymbol{\\theta})$$\\big)$', the error sum of squares, $S(\\boldsymbol{\\theta})$, can also be re-written as:\n",
    "\n",
    "$$ \\begin{align}\n",
    "S(\\boldsymbol{\\theta}) = [y - \\boldsymbol{f}(\\boldsymbol{\\theta})]'[y - \\boldsymbol{f}(\\boldsymbol{\\theta})] = \\|y - \\boldsymbol{f}(\\boldsymbol{\\theta}\\|^2\n",
    "\\end{align} $$\n",
    "\n",
    "This quantity, labelled the data misfit function, is a quadratic metric, squared Euclidean distance,  named ESS = Error Sum of Squares, columnwise. This is the $S(\\boldsymbol{\\theta})$ function 2.2 and 2.7 of Seber and Wild page 21."
   ]
  },
  {
   "cell_type": "code",
   "execution_count": 8,
   "metadata": {},
   "outputs": [
    {
     "data": {
      "text/plain": [
       "ess2 (generic function with 1 method)"
      ]
     },
     "execution_count": 8,
     "metadata": {},
     "output_type": "execute_result"
    }
   ],
   "source": [
    "# build cost function\n",
    "function ess2(actual, estimated)\n",
    "    sumsq = 0.0\n",
    "    for i in 1:size(actual, 2)\n",
    "        @inbounds sumsq += sumabs2(actual[i] .- estimated[:, i])\n",
    "    end\n",
    "    sumsq\n",
    "end"
   ]
  },
  {
   "cell_type": "code",
   "execution_count": 9,
   "metadata": {},
   "outputs": [
    {
     "data": {
      "text/plain": [
       "my_cost (generic function with 1 method)"
      ]
     },
     "execution_count": 9,
     "metadata": {},
     "output_type": "execute_result"
    }
   ],
   "source": [
    "my_cost_short(sol) = ess2(sol,data_short)\n",
    "my_cost(sol) = ess2(sol,data)"
   ]
  },
  {
   "cell_type": "markdown",
   "metadata": {},
   "source": [
    "A typical problem is to find the value of $\\boldsymbol{\\theta}$ that minimizes a data misfit/loss function $\\boldsymbol{h(\\theta)}$ having one of the following forms:\n",
    "\n",
    "$$ \\begin{align}\n",
    "h(\\boldsymbol{\\theta}) = \\sum_{i=1}^{n} [y_i - f(\\boldsymbol{x}_i;\\boldsymbol{\\theta})]^2 = & \\sum_{i=1}^{n} r_i(\\boldsymbol{\\theta})^2,\n",
    "\\end{align} $$\n",
    "\n",
    "$$ \\begin{align}\n",
    "h(\\boldsymbol{\\theta}) = \\sum_{i=1}^{n} |y_i - f(\\boldsymbol{x}_i;\\boldsymbol{\\theta})| = & \\sum_{i=1}^{n} |r_i(\\boldsymbol{\\theta})|,\n",
    "\\end{align} $$\n",
    "\n",
    "$$ \\begin{align}\n",
    "h(\\boldsymbol{\\theta}) = \\sum_{i=1}^{n} \\rho(r_i(\\boldsymbol{\\theta})) & \\qquad \\text{(robust loss functions)}.\n",
    "\\end{align} $$\n",
    "\n",
    "These functions are available from two Julia packages: Distances.jl and LossFunctions.jl on Github. The ess function has been specified from first principles to check the accuracy and speed of alternative functions from other packages.\n",
    "\n",
    "We restrict attention to unconstrained minimization where we wish to minimize $h(\\boldsymbol{\\theta})$ over $\\mathbb{R}^p$. Most estimation methods require a global minimum of $h(\\boldsymbol{\\theta})$, namely a point $\\boldsymbol{\\hat{\\theta}}$ such that $h(\\boldsymbol{\\theta}) \\geq h(\\boldsymbol{\\hat{\\theta}})$ for all $\\boldsymbol{\\theta}$ in $\\mathbb{R}^p$. Global minimization is possible only for very restrictive clases of functions such as convex functions (Dixon and Szeg$\\ddot{o}$ [1978]. Therefore, the properties of the selected data misfit functions should check that they are, first and foremost, convex and subsidiarily smooth and/or continuous. "
   ]
  },
  {
   "cell_type": "markdown",
   "metadata": {},
   "source": [
    "### Nonlinear Least Squares estimation (nls)\n",
    "\n",
    "A family of NLS estimators covers several cases of generalized or weighted least squares estimators. The main steps leading to the computation of $\\boldsymbol{\\hat{\\theta}}_G$, the value of $\\boldsymbol{\\theta}$ minimizing:\n",
    "\n",
    "$$ \\begin{align}\n",
    "S(\\boldsymbol{\\theta}) = [y - \\boldsymbol{f}(\\boldsymbol{\\theta})]'\\boldsymbol{V^{-1}}[y - \\boldsymbol{f}(\\boldsymbol{\\theta})],\n",
    "\\end{align} $$\n",
    "\n",
    "$\\boldsymbol{V}$ is a known positive definite matrix, $\\boldsymbol{J}$ is the Jacobian of $\\boldsymbol{f}(\\boldsymbol{\\theta})$ and $\\mathscr{\\hat{D}}[\\boldsymbol{\\hat{\\theta}}_G] = \\hat{\\sigma}^2(\\boldsymbol{\\hat{J}}'\\boldsymbol{V}^{-1}\\boldsymbol{\\hat{J}})^{-1}$           , an estimate of the asymptotic covariance matrix of $\\boldsymbol{\\hat{\\theta}}_G$:\n",
    "1. Perform a Cholesky decomposition of $\\boldsymbol{V} = \\boldsymbol{U}'\\boldsymbol{U}$ of $\\boldsymbol{V}$\n",
    "2. Solve $U'z = y$ and $U'k(\\boldsymbol{\\theta})$ for $\\boldsymbol{z}$ and $\\boldsymbol{k}$\n",
    "3. Apply an ordinary nonlinear least-squares technique to\n",
    "\n",
    "$$ \\begin{align}\n",
    "[z - \\boldsymbol{k}(\\boldsymbol{\\theta})]'[z - \\boldsymbol{k}(\\boldsymbol{\\theta})],\n",
    "\\end{align} $$\n",
    "\n",
    "Here we illustrate the simplest case when $V = I_n$ and the above steps collapse to an OLS."
   ]
  },
  {
   "cell_type": "markdown",
   "metadata": {},
   "source": [
    "### Maximum-likelihood estimation (mle)\n",
    "\n",
    "As in the NLS case, the family of likelihood estimators covers several cases: maximum likelihood estimator, concentrated likelihood estimator and quasi-likelihood estimator.\n",
    "\n",
    "If the joint distribution of the $\\epsilon_i$ in the above model is assumed to be a known variable instead of a constant, then the maximum-likelihood estimate of $\\boldsymbol{\\theta}$ is obtained by maximizing the likelihood function. For $\\epsilon_i$ i.i.d $N(0, \\sigma^2)$ and ignoring some constants then the logarithm of the likelihood $L(\\boldsymbol{\\theta}, \\sigma^2)$ is:\n",
    "\n",
    "$$L(\\boldsymbol{\\theta}, \\sigma^2) = - \\frac{n}{2} ln  \\sigma^2 - \\frac{1}{2\\sigma^2}S(\\boldsymbol{\\theta})$$\n",
    "\n",
    "This function is maximized with respect to $\\boldsymbol{\\theta}$ when $S(\\boldsymbol{\\theta})$ is minimized when $\\boldsymbol{\\theta} = \\boldsymbol{\\hat{\\theta}}$, the least squares estimate.\n",
    "\n",
    "By analogy to the family of least squares estimators above, it is envisaged that this family of likelihood estimators should be coded as follows: "
   ]
  },
  {
   "cell_type": "markdown",
   "metadata": {},
   "source": [
    "For the additional cases: the concentrated likelihood and the quasi-likelihood estimators. Each case depends on the properties of the covariance matrix of experimental noise.\n",
    "\n",
    "The concentrated likelihood method is a two-step method where the first step is the simple likelihood method explained above. It is documented on page 36 of Seber and Wild.\n",
    "\n",
    "The quasi-likelihood method is a further refinement by relaxing the underlying assumptions of MLE. It is documented on page 43 of Seber and Wild. "
   ]
  },
  {
   "cell_type": "markdown",
   "metadata": {},
   "source": [
    "## Global optimization using BlackBoxOptim\n",
    "\n",
    "The parameter estimation of the Lorenz atractor has proved inaccurate with the family of algorithms available in NLopt. Instead, we are attempting the estimation of these parameters within the class of Differential Evolution (DE) algorithm available with BlackBoxOptim (https://github.com/robertfeldt/BlackBoxOptim.jl). BlackBoxOptim does not yet comply with MathProgBase syntax and the optimization has been set up by Robert Feldt below. It will become MathProgBase compliant in the near future."
   ]
  },
  {
   "cell_type": "markdown",
   "metadata": {},
   "source": [
    "To demonstrate the estimation capabilities of BlackBoxOptim, let's sample a small subset first and set the estimation bounds of the parameters as in the [Xiang2015] paper, https://www.hindawi.com/journals/ddns/2015/740721/:"
   ]
  },
  {
   "cell_type": "code",
   "execution_count": 10,
   "metadata": {},
   "outputs": [
    {
     "data": {
      "text/plain": [
       "3-element Array{Tuple{Float64,Float64},1}:\n",
       " (9.0,11.0) \n",
       " (20.0,30.0)\n",
       " (2.0,3.0)  "
      ]
     },
     "execution_count": 10,
     "metadata": {},
     "output_type": "execute_result"
    }
   ],
   "source": [
    "Xiang2015Bounds = Tuple{Float64, Float64}[(9, 11), (20, 30), (2, 3)]"
   ]
  },
  {
   "cell_type": "code",
   "execution_count": 11,
   "metadata": {},
   "outputs": [
    {
     "name": "stdout",
     "output_type": "stream",
     "text": [
      "Starting optimization with optimizer BlackBoxOptim.DiffEvoOpt{BlackBoxOptim.FitPopulation{Float64},BlackBoxOptim.RadiusLimitedSelector,BlackBoxOptim.AdaptiveDiffEvoRandBin{3},BlackBoxOptim.RandomBound{BlackBoxOptim.RangePerDimSearchSpace}}\n",
      "0.00 secs, 0 evals, 0 steps\n",
      "0.50 secs, 339 evals, 256 steps, improv/step: 0.438 (last = 0.4375), fitness=80.922267130\n",
      "1.00 secs, 927 evals, 829 steps, improv/step: 0.341 (last = 0.2984), fitness=17.941716909\n",
      "1.50 secs, 1613 evals, 1514 steps, improv/step: 0.318 (last = 0.2891), fitness=8.611641877\n",
      "2.00 secs, 2216 evals, 2117 steps, improv/step: 0.299 (last = 0.2537), fitness=8.455505201\n",
      "2.51 secs, 2761 evals, 2662 steps, improv/step: 0.294 (last = 0.2734), fitness=8.453701856\n",
      "3.01 secs, 3314 evals, 3216 steps, improv/step: 0.292 (last = 0.2834), fitness=8.452318966\n",
      "3.51 secs, 3908 evals, 3810 steps, improv/step: 0.289 (last = 0.2710), fitness=8.452268554\n",
      "4.01 secs, 4583 evals, 4485 steps, improv/step: 0.291 (last = 0.3037), fitness=8.452266872\n",
      "4.51 secs, 5259 evals, 5161 steps, improv/step: 0.290 (last = 0.2811), fitness=8.452266834\n",
      "5.01 secs, 5932 evals, 5834 steps, improv/step: 0.286 (last = 0.2571), fitness=8.452266833\n",
      "5.51 secs, 6602 evals, 6504 steps, improv/step: 0.283 (last = 0.2597), fitness=8.452266833\n",
      "6.01 secs, 7278 evals, 7180 steps, improv/step: 0.283 (last = 0.2840), fitness=8.452266833\n",
      "6.51 secs, 7951 evals, 7853 steps, improv/step: 0.283 (last = 0.2779), fitness=8.452266833\n",
      "7.01 secs, 8635 evals, 8537 steps, improv/step: 0.277 (last = 0.2047), fitness=8.452266833\n",
      "7.52 secs, 9322 evals, 9224 steps, improv/step: 0.266 (last = 0.1368), fitness=8.452266833\n",
      "8.02 secs, 9966 evals, 9868 steps, improv/step: 0.254 (last = 0.0714), fitness=8.452266833\n",
      "8.52 secs, 10636 evals, 10538 steps, improv/step: 0.239 (last = 0.0299), fitness=8.452266833\n",
      "\n",
      "Optimization stopped after 11001 steps and 8.871000051498413 seconds\n",
      "Termination reason: Max number of steps (11000) reached\n",
      "Steps per second = 1240.108210589155\n",
      "Function evals per second = 1251.155443080541\n",
      "Improvements/step = 0.23072727272727273\n",
      "Total function evaluations = 11099\n",
      "\n",
      "\n",
      "Best candidate found: [10.0038,27.9968,2.66628]\n",
      "\n",
      "Fitness: 8.452266833\n",
      "\n"
     ]
    },
    {
     "data": {
      "text/plain": [
       "BlackBoxOptim.OptimizationResults(\"adaptive_de_rand_1_bin_radiuslimited\",\"Max number of steps (11000) reached\",11001,1.494076275245e9,8.871000051498413,BlackBoxOptim.DictChain{Symbol,Any}[BlackBoxOptim.DictChain{Symbol,Any}[Dict{Symbol,Any}(Pair{Symbol,Any}(:SearchRange,Tuple{Float64,Float64}[(9.0,11.0),(20.0,30.0),(2.0,3.0)]),Pair{Symbol,Any}(:MaxSteps,11000),Pair{Symbol,Any}(:RngSeed,80408)),Dict{Symbol,Any}()],Dict{Symbol,Any}(Pair{Symbol,Any}(:MaxStepsWithoutProgress,10000),Pair{Symbol,Any}(:FitnessTolerance,1.0e-8),Pair{Symbol,Any}(:TraceInterval,0.5),Pair{Symbol,Any}(:MinDeltaFitnessTolerance,1.0e-50),Pair{Symbol,Any}(:MaxFuncEvals,0),Pair{Symbol,Any}(:NumRepetitions,1),Pair{Symbol,Any}(:MaxTime,0.0),Pair{Symbol,Any}(:MaxSteps,10000),Pair{Symbol,Any}(:MaxNumStepsWithoutFuncEvals,100),Pair{Symbol,Any}(:RandomizeRngSeed,true)…)],11099,BlackBoxOptim.ScalarFitnessScheme{true}(),BlackBoxOptim.TopListArchiveOutput{Float64,Array{Float64,1}}(8.452266832775065,[10.0038,27.9968,2.66628]),BlackBoxOptim.PopulationOptimizerOutput{BlackBoxOptim.FitPopulation{Float64}}(BlackBoxOptim.FitPopulation{Float64}([10.0038 10.0038 … 10.0038 10.0038; 27.9968 27.9968 … 27.9968 27.9968; 2.66628 2.66628 … 2.66628 2.66628],NaN,[8.45227,8.45227,8.45227,8.45227,8.45227,8.45227,8.45227,8.45227,8.45227,8.45227  …  8.45227,8.45227,8.45227,8.45227,8.45227,8.45227,8.45227,8.45227,8.45227,8.45227],0,BlackBoxOptim.Candidate{Float64}[BlackBoxOptim.Candidate{Float64}([10.0038,27.9968,2.66628],50,8.45227,BlackBoxOptim.AdaptiveDiffEvoRandBin{3}(BlackBoxOptim.AdaptiveDiffEvoParameters(BlackBoxOptim.BimodalCauchy(Distributions.Cauchy{Float64}(μ=0.65, σ=0.1),Distributions.Cauchy{Float64}(μ=1.0, σ=0.1),0.5,false,true),BlackBoxOptim.BimodalCauchy(Distributions.Cauchy{Float64}(μ=0.1, σ=0.1),Distributions.Cauchy{Float64}(μ=0.95, σ=0.1),0.5,false,true),[0.987693,0.636335,0.627779,1.0,1.0,0.479661,0.540019,0.474298,0.688426,0.246786  …  1.0,0.587637,1.0,0.0872786,0.766615,0.896966,0.925387,0.541475,1.0,1.0],[0.883314,0.351143,0.565039,1.0,0.0431106,0.00606987,1.0,1.0,0.149047,1.0  …  0.0380906,0.96483,0.419684,0.970616,0.167475,0.869304,1.0,1.0,0.728644,0.93181])),0),BlackBoxOptim.Candidate{Float64}([10.0038,27.9968,2.66628],50,8.45227,BlackBoxOptim.AdaptiveDiffEvoRandBin{3}(BlackBoxOptim.AdaptiveDiffEvoParameters(BlackBoxOptim.BimodalCauchy(Distributions.Cauchy{Float64}(μ=0.65, σ=0.1),Distributions.Cauchy{Float64}(μ=1.0, σ=0.1),0.5,false,true),BlackBoxOptim.BimodalCauchy(Distributions.Cauchy{Float64}(μ=0.1, σ=0.1),Distributions.Cauchy{Float64}(μ=0.95, σ=0.1),0.5,false,true),[0.987693,0.636335,0.627779,1.0,1.0,0.479661,0.540019,0.474298,0.688426,0.246786  …  1.0,0.587637,1.0,0.0872786,0.766615,0.896966,0.925387,0.541475,1.0,1.0],[0.883314,0.351143,0.565039,1.0,0.0431106,0.00606987,1.0,1.0,0.149047,1.0  …  0.0380906,0.96483,0.419684,0.970616,0.167475,0.869304,1.0,1.0,0.728644,0.93181])),0)])))"
      ]
     },
     "execution_count": 11,
     "metadata": {},
     "output_type": "execute_result"
    }
   ],
   "source": [
    "#obj_short = build_loss_objective(prob_short,Euler(),my_cost_short,tstops=t_short,dense=false,abstol=1e-9,reltol=1e-9) # Fails\n",
    "obj_short = build_loss_objective(prob_short,Tsit5(),my_cost_short,saveat=t_short,dense=false,abstol=1e-9,reltol=1e-9)\n",
    "res1 = bboptimize(obj_short;SearchRange = Xiang2015Bounds, MaxSteps = 11e3)"
   ]
  },
  {
   "cell_type": "code",
   "execution_count": 12,
   "metadata": {},
   "outputs": [
    {
     "name": "stdout",
     "output_type": "stream",
     "text": [
      "Starting optimization with optimizer BlackBoxOptim.DiffEvoOpt{BlackBoxOptim.FitPopulation{Float64},BlackBoxOptim.RadiusLimitedSelector,BlackBoxOptim.AdaptiveDiffEvoRandBin{3},BlackBoxOptim.RandomBound{BlackBoxOptim.RangePerDimSearchSpace}}\n",
      "0.00 secs, 0 evals, 0 steps\n",
      "0.51 secs, 147 evals, 91 steps, improv/step: 0.484 (last = 0.4835), fitness=6407.580552136\n",
      "1.01 secs, 299 evals, 214 steps, improv/step: 0.435 (last = 0.3984), fitness=215.643291926\n",
      "1.51 secs, 449 evals, 355 steps, improv/step: 0.380 (last = 0.2979), fitness=215.643291926\n",
      "2.01 secs, 599 evals, 505 steps, improv/step: 0.376 (last = 0.3667), fitness=215.643291926\n",
      "2.51 secs, 750 evals, 656 steps, improv/step: 0.360 (last = 0.3046), fitness=215.643291926\n",
      "3.02 secs, 903 evals, 810 steps, improv/step: 0.342 (last = 0.2662), fitness=138.698245855\n",
      "3.52 secs, 1054 evals, 961 steps, improv/step: 0.329 (last = 0.2583), fitness=138.698245855\n",
      "4.02 secs, 1204 evals, 1111 steps, improv/step: 0.323 (last = 0.2867), fitness=133.686001010\n",
      "4.52 secs, 1354 evals, 1261 steps, improv/step: 0.310 (last = 0.2133), fitness=133.686001010\n",
      "5.03 secs, 1504 evals, 1411 steps, improv/step: 0.313 (last = 0.3333), fitness=124.044098553\n",
      "5.53 secs, 1654 evals, 1561 steps, improv/step: 0.309 (last = 0.2733), fitness=121.975655135\n",
      "6.03 secs, 1805 evals, 1712 steps, improv/step: 0.308 (last = 0.3046), fitness=121.629511776\n",
      "6.53 secs, 1956 evals, 1863 steps, improv/step: 0.309 (last = 0.3113), fitness=120.405225275\n",
      "7.03 secs, 2105 evals, 2012 steps, improv/step: 0.306 (last = 0.2685), fitness=120.366293028\n",
      "7.54 secs, 2255 evals, 2162 steps, improv/step: 0.300 (last = 0.2200), fitness=120.124838578\n",
      "8.04 secs, 2402 evals, 2309 steps, improv/step: 0.295 (last = 0.2245), fitness=120.124838578\n",
      "8.54 secs, 2540 evals, 2448 steps, improv/step: 0.295 (last = 0.3022), fitness=120.124838578\n",
      "9.04 secs, 2653 evals, 2561 steps, improv/step: 0.297 (last = 0.3274), fitness=120.066468804\n",
      "9.54 secs, 2771 evals, 2679 steps, improv/step: 0.296 (last = 0.2797), fitness=120.066468804\n",
      "10.05 secs, 2902 evals, 2810 steps, improv/step: 0.295 (last = 0.2748), fitness=120.058912639\n",
      "10.55 secs, 3054 evals, 2962 steps, improv/step: 0.292 (last = 0.2434), fitness=120.044335609\n",
      "11.05 secs, 3204 evals, 3112 steps, improv/step: 0.290 (last = 0.2533), fitness=120.044257493\n",
      "11.55 secs, 3354 evals, 3262 steps, improv/step: 0.291 (last = 0.2933), fitness=120.044257493\n",
      "12.05 secs, 3503 evals, 3411 steps, improv/step: 0.291 (last = 0.2953), fitness=120.044257493\n",
      "12.56 secs, 3654 evals, 3562 steps, improv/step: 0.291 (last = 0.3046), fitness=120.044080087\n",
      "13.06 secs, 3804 evals, 3712 steps, improv/step: 0.291 (last = 0.2867), fitness=120.044001501\n",
      "13.56 secs, 3955 evals, 3863 steps, improv/step: 0.291 (last = 0.2848), fitness=120.044001501\n",
      "14.06 secs, 4104 evals, 4012 steps, improv/step: 0.291 (last = 0.3020), fitness=120.043899321\n",
      "14.56 secs, 4254 evals, 4162 steps, improv/step: 0.292 (last = 0.3067), fitness=120.043835291\n",
      "15.07 secs, 4404 evals, 4312 steps, improv/step: 0.294 (last = 0.3400), fitness=120.043835291\n",
      "15.57 secs, 4554 evals, 4462 steps, improv/step: 0.294 (last = 0.3067), fitness=120.043823272\n",
      "16.07 secs, 4705 evals, 4613 steps, improv/step: 0.292 (last = 0.2450), fitness=120.043823272\n",
      "16.57 secs, 4854 evals, 4762 steps, improv/step: 0.294 (last = 0.3356), fitness=120.043821406\n",
      "17.08 secs, 5000 evals, 4908 steps, improv/step: 0.291 (last = 0.1918), fitness=120.043819885\n",
      "17.58 secs, 5150 evals, 5058 steps, improv/step: 0.288 (last = 0.2133), fitness=120.043819684\n",
      "18.08 secs, 5298 evals, 5206 steps, improv/step: 0.288 (last = 0.2568), fitness=120.043819445\n",
      "18.58 secs, 5412 evals, 5322 steps, improv/step: 0.286 (last = 0.2241), fitness=120.043819445\n",
      "19.09 secs, 5537 evals, 5447 steps, improv/step: 0.287 (last = 0.3040), fitness=120.043819445\n",
      "19.59 secs, 5686 evals, 5596 steps, improv/step: 0.287 (last = 0.2953), fitness=120.043819445\n",
      "20.09 secs, 5837 evals, 5747 steps, improv/step: 0.286 (last = 0.2715), fitness=120.043819445\n",
      "20.59 secs, 5987 evals, 5897 steps, improv/step: 0.287 (last = 0.2933), fitness=120.043819445\n",
      "21.09 secs, 6138 evals, 6048 steps, improv/step: 0.286 (last = 0.2715), fitness=120.043819445\n",
      "21.60 secs, 6287 evals, 6197 steps, improv/step: 0.284 (last = 0.1946), fitness=120.043819438\n",
      "22.10 secs, 6436 evals, 6346 steps, improv/step: 0.284 (last = 0.2886), fitness=120.043819438\n",
      "22.60 secs, 6586 evals, 6496 steps, improv/step: 0.284 (last = 0.2800), fitness=120.043819438\n",
      "23.11 secs, 6737 evals, 6648 steps, improv/step: 0.284 (last = 0.2895), fitness=120.043819438\n",
      "23.61 secs, 6884 evals, 6795 steps, improv/step: 0.283 (last = 0.2381), fitness=120.043819438\n",
      "24.11 secs, 7033 evals, 6944 steps, improv/step: 0.283 (last = 0.2617), fitness=120.043819438\n",
      "24.61 secs, 7183 evals, 7094 steps, improv/step: 0.284 (last = 0.3467), fitness=120.043819438\n",
      "25.11 secs, 7332 evals, 7243 steps, improv/step: 0.284 (last = 0.2617), fitness=120.043819438\n",
      "25.62 secs, 7481 evals, 7393 steps, improv/step: 0.284 (last = 0.2800), fitness=120.043819438\n",
      "26.12 secs, 7630 evals, 7542 steps, improv/step: 0.284 (last = 0.3087), fitness=120.043819438\n",
      "26.62 secs, 7756 evals, 7668 steps, improv/step: 0.284 (last = 0.2619), fitness=120.043819438\n",
      "27.12 secs, 7869 evals, 7781 steps, improv/step: 0.283 (last = 0.2389), fitness=120.043819438\n",
      "27.62 secs, 7980 evals, 7892 steps, improv/step: 0.283 (last = 0.2703), fitness=120.043819438\n",
      "\n",
      "Optimization stopped after 8001 steps and 28.063000202178955 seconds\n",
      "Termination reason: Max number of steps (8000) reached\n",
      "Steps per second = 285.10850380775616\n",
      "Function evals per second = 288.2443053744456\n",
      "Improvements/step = 0.28325\n",
      "Total function evaluations = 8089\n",
      "\n",
      "\n",
      "Best candidate found: [10.0025,27.9996,2.66653]\n",
      "\n",
      "Fitness: 120.043819438\n",
      "\n"
     ]
    },
    {
     "data": {
      "text/plain": [
       "BlackBoxOptim.OptimizationResults(\"adaptive_de_rand_1_bin_radiuslimited\",\"Max number of steps (8000) reached\",8001,1.494076289824e9,28.063000202178955,BlackBoxOptim.DictChain{Symbol,Any}[BlackBoxOptim.DictChain{Symbol,Any}[Dict{Symbol,Any}(Pair{Symbol,Any}(:SearchRange,Tuple{Float64,Float64}[(9.0,11.0),(20.0,30.0),(2.0,3.0)]),Pair{Symbol,Any}(:MaxSteps,8000),Pair{Symbol,Any}(:RngSeed,602038)),Dict{Symbol,Any}()],Dict{Symbol,Any}(Pair{Symbol,Any}(:MaxStepsWithoutProgress,10000),Pair{Symbol,Any}(:FitnessTolerance,1.0e-8),Pair{Symbol,Any}(:TraceInterval,0.5),Pair{Symbol,Any}(:MinDeltaFitnessTolerance,1.0e-50),Pair{Symbol,Any}(:MaxFuncEvals,0),Pair{Symbol,Any}(:NumRepetitions,1),Pair{Symbol,Any}(:MaxTime,0.0),Pair{Symbol,Any}(:MaxSteps,10000),Pair{Symbol,Any}(:MaxNumStepsWithoutFuncEvals,100),Pair{Symbol,Any}(:RandomizeRngSeed,true)…)],8089,BlackBoxOptim.ScalarFitnessScheme{true}(),BlackBoxOptim.TopListArchiveOutput{Float64,Array{Float64,1}}(120.04381943788277,[10.0025,27.9996,2.66653]),BlackBoxOptim.PopulationOptimizerOutput{BlackBoxOptim.FitPopulation{Float64}}(BlackBoxOptim.FitPopulation{Float64}([10.0025 10.0025 … 10.0025 10.0025; 27.9996 27.9996 … 27.9996 27.9996; 2.66653 2.66653 … 2.66653 2.66653],NaN,[120.044,120.044,120.044,120.044,120.044,120.044,120.044,120.044,120.044,120.044  …  120.044,120.044,120.044,120.044,120.044,120.044,120.044,120.044,120.044,120.044],0,BlackBoxOptim.Candidate{Float64}[BlackBoxOptim.Candidate{Float64}([10.0025,27.9996,2.66653],48,120.044,BlackBoxOptim.AdaptiveDiffEvoRandBin{3}(BlackBoxOptim.AdaptiveDiffEvoParameters(BlackBoxOptim.BimodalCauchy(Distributions.Cauchy{Float64}(μ=0.65, σ=0.1),Distributions.Cauchy{Float64}(μ=1.0, σ=0.1),0.5,false,true),BlackBoxOptim.BimodalCauchy(Distributions.Cauchy{Float64}(μ=0.1, σ=0.1),Distributions.Cauchy{Float64}(μ=0.95, σ=0.1),0.5,false,true),[1.0,1.0,0.718894,0.529037,0.906007,1.0,0.609191,0.949332,0.623123,1.0  …  0.972641,0.708614,1.0,1.0,1.0,0.580187,0.907242,1.0,0.955462,0.844667],[1.0,1.0,0.0788366,0.819862,0.25071,0.214564,0.0760045,0.989083,1.0,1.0  …  0.0700253,1.0,0.86213,0.951024,1.0,0.952215,0.0122362,0.622744,0.739056,0.738996])),0),BlackBoxOptim.Candidate{Float64}([10.0025,27.9996,2.66653],48,120.044,BlackBoxOptim.AdaptiveDiffEvoRandBin{3}(BlackBoxOptim.AdaptiveDiffEvoParameters(BlackBoxOptim.BimodalCauchy(Distributions.Cauchy{Float64}(μ=0.65, σ=0.1),Distributions.Cauchy{Float64}(μ=1.0, σ=0.1),0.5,false,true),BlackBoxOptim.BimodalCauchy(Distributions.Cauchy{Float64}(μ=0.1, σ=0.1),Distributions.Cauchy{Float64}(μ=0.95, σ=0.1),0.5,false,true),[1.0,1.0,0.718894,0.529037,0.906007,1.0,0.609191,0.949332,0.623123,1.0  …  0.972641,0.708614,1.0,1.0,1.0,0.580187,0.907242,1.0,0.955462,0.844667],[1.0,1.0,0.0788366,0.819862,0.25071,0.214564,0.0760045,0.989083,1.0,1.0  …  0.0700253,1.0,0.86213,0.951024,1.0,0.952215,0.0122362,0.622744,0.739056,0.738996])),0)])))"
      ]
     },
     "execution_count": 12,
     "metadata": {},
     "output_type": "execute_result"
    }
   ],
   "source": [
    "obj = build_loss_objective(prob,Tsit5(),my_cost,saveat=t,dense=false,abstol=1e-9,reltol=1e-9)\n",
    "res2 = bboptimize(obj;SearchRange = Xiang2015Bounds, MaxSteps = 8e3)"
   ]
  },
  {
   "cell_type": "markdown",
   "metadata": {},
   "source": [
    "But let's also try relaxing the tight bounds inthe Xiang2015 paper."
   ]
  },
  {
   "cell_type": "code",
   "execution_count": 13,
   "metadata": {},
   "outputs": [
    {
     "data": {
      "text/plain": [
       "3-element Array{Tuple{Float64,Float64},1}:\n",
       " (0.0,22.0)\n",
       " (0.0,60.0)\n",
       " (1.0,6.0) "
      ]
     },
     "execution_count": 13,
     "metadata": {},
     "output_type": "execute_result"
    }
   ],
   "source": [
    "LooserBounds = Tuple{Float64, Float64}[(0, 22), (0, 60), (1, 6)]"
   ]
  },
  {
   "cell_type": "code",
   "execution_count": 14,
   "metadata": {},
   "outputs": [
    {
     "name": "stdout",
     "output_type": "stream",
     "text": [
      "Starting optimization with optimizer BlackBoxOptim.DiffEvoOpt{BlackBoxOptim.FitPopulation{Float64},BlackBoxOptim.RadiusLimitedSelector,BlackBoxOptim.AdaptiveDiffEvoRandBin{3},BlackBoxOptim.RandomBound{BlackBoxOptim.RangePerDimSearchSpace}}\n",
      "0.00 secs, 0 evals, 0 steps\n",
      "0.50 secs, 585 evals, 485 steps, improv/step: 0.348 (last = 0.3485), fitness=2771.854843300\n",
      "1.00 secs, 1191 evals, 1086 steps, improv/step: 0.312 (last = 0.2829), fitness=150.845572472\n",
      "1.50 secs, 1836 evals, 1731 steps, improv/step: 0.289 (last = 0.2496), fitness=13.752038844\n",
      "2.00 secs, 2468 evals, 2363 steps, improv/step: 0.292 (last = 0.3022), fitness=8.721351805\n",
      "2.51 secs, 3087 evals, 2982 steps, improv/step: 0.290 (last = 0.2827), fitness=8.468476999\n",
      "3.01 secs, 3716 evals, 3612 steps, improv/step: 0.288 (last = 0.2794), fitness=8.455061246\n",
      "3.51 secs, 4356 evals, 4252 steps, improv/step: 0.287 (last = 0.2766), fitness=8.452384131\n",
      "4.01 secs, 5008 evals, 4904 steps, improv/step: 0.282 (last = 0.2485), fitness=8.452284910\n",
      "4.51 secs, 5677 evals, 5573 steps, improv/step: 0.280 (last = 0.2661), fitness=8.452267613\n",
      "5.01 secs, 6352 evals, 6248 steps, improv/step: 0.278 (last = 0.2667), fitness=8.452266849\n",
      "5.51 secs, 7028 evals, 6924 steps, improv/step: 0.275 (last = 0.2456), fitness=8.452266834\n",
      "6.01 secs, 7703 evals, 7599 steps, improv/step: 0.273 (last = 0.2563), fitness=8.452266833\n",
      "6.51 secs, 8370 evals, 8266 steps, improv/step: 0.274 (last = 0.2849), fitness=8.452266833\n",
      "7.01 secs, 9051 evals, 8948 steps, improv/step: 0.274 (last = 0.2654), fitness=8.452266833\n",
      "7.52 secs, 9737 evals, 9634 steps, improv/step: 0.274 (last = 0.2770), fitness=8.452266833\n",
      "8.02 secs, 10416 evals, 10314 steps, improv/step: 0.271 (last = 0.2309), fitness=8.452266833\n",
      "8.52 secs, 11099 evals, 10997 steps, improv/step: 0.260 (last = 0.0966), fitness=8.452266833\n",
      "\n",
      "Optimization stopped after 11001 steps and 8.521000146865845 seconds\n",
      "Termination reason: Max number of steps (11000) reached\n",
      "Steps per second = 1291.0456296666464\n",
      "Function evals per second = 1303.0160554666643\n",
      "Improvements/step = 0.2601818181818182\n",
      "Total function evaluations = 11103\n",
      "\n",
      "\n",
      "Best candidate found: [10.0038,27.9968,2.66628]\n",
      "\n",
      "Fitness: 8.452266833\n",
      "\n"
     ]
    },
    {
     "data": {
      "text/plain": [
       "BlackBoxOptim.OptimizationResults(\"adaptive_de_rand_1_bin_radiuslimited\",\"Max number of steps (11000) reached\",11001,1.494076327883e9,8.521000146865845,BlackBoxOptim.DictChain{Symbol,Any}[BlackBoxOptim.DictChain{Symbol,Any}[Dict{Symbol,Any}(Pair{Symbol,Any}(:SearchRange,Tuple{Float64,Float64}[(0.0,22.0),(0.0,60.0),(1.0,6.0)]),Pair{Symbol,Any}(:MaxSteps,11000),Pair{Symbol,Any}(:RngSeed,553517)),Dict{Symbol,Any}()],Dict{Symbol,Any}(Pair{Symbol,Any}(:MaxStepsWithoutProgress,10000),Pair{Symbol,Any}(:FitnessTolerance,1.0e-8),Pair{Symbol,Any}(:TraceInterval,0.5),Pair{Symbol,Any}(:MinDeltaFitnessTolerance,1.0e-50),Pair{Symbol,Any}(:MaxFuncEvals,0),Pair{Symbol,Any}(:NumRepetitions,1),Pair{Symbol,Any}(:MaxTime,0.0),Pair{Symbol,Any}(:MaxSteps,10000),Pair{Symbol,Any}(:MaxNumStepsWithoutFuncEvals,100),Pair{Symbol,Any}(:RandomizeRngSeed,true)…)],11103,BlackBoxOptim.ScalarFitnessScheme{true}(),BlackBoxOptim.TopListArchiveOutput{Float64,Array{Float64,1}}(8.452266832775106,[10.0038,27.9968,2.66628]),BlackBoxOptim.PopulationOptimizerOutput{BlackBoxOptim.FitPopulation{Float64}}(BlackBoxOptim.FitPopulation{Float64}([10.0038 10.0038 … 10.0038 10.0038; 27.9968 27.9968 … 27.9968 27.9968; 2.66628 2.66628 … 2.66628 2.66628],NaN,[8.45227,8.45227,8.45227,8.45227,8.45227,8.45227,8.45227,8.45227,8.45227,8.45227  …  8.45227,8.45227,8.45227,8.45227,8.45227,8.45227,8.45227,8.45227,8.45227,8.45227],0,BlackBoxOptim.Candidate{Float64}[BlackBoxOptim.Candidate{Float64}([10.0038,27.9968,2.66628],2,8.45227,BlackBoxOptim.AdaptiveDiffEvoRandBin{3}(BlackBoxOptim.AdaptiveDiffEvoParameters(BlackBoxOptim.BimodalCauchy(Distributions.Cauchy{Float64}(μ=0.65, σ=0.1),Distributions.Cauchy{Float64}(μ=1.0, σ=0.1),0.5,false,true),BlackBoxOptim.BimodalCauchy(Distributions.Cauchy{Float64}(μ=0.1, σ=0.1),Distributions.Cauchy{Float64}(μ=0.95, σ=0.1),0.5,false,true),[0.345833,0.523138,0.90642,1.0,0.726484,0.895427,1.0,1.0,0.744488,1.0  …  1.0,1.0,0.863241,1.0,1.0,0.953067,0.941373,1.0,0.998923,0.359605],[0.957718,0.991222,0.82486,0.895984,0.0716285,0.99306,0.907345,0.303439,0.0423548,0.039418  …  0.070347,0.936143,0.022613,0.662075,0.159085,1.0,0.938868,1.0,0.0455133,0.508165])),0),BlackBoxOptim.Candidate{Float64}([10.0038,27.9968,2.66628],2,8.45227,BlackBoxOptim.AdaptiveDiffEvoRandBin{3}(BlackBoxOptim.AdaptiveDiffEvoParameters(BlackBoxOptim.BimodalCauchy(Distributions.Cauchy{Float64}(μ=0.65, σ=0.1),Distributions.Cauchy{Float64}(μ=1.0, σ=0.1),0.5,false,true),BlackBoxOptim.BimodalCauchy(Distributions.Cauchy{Float64}(μ=0.1, σ=0.1),Distributions.Cauchy{Float64}(μ=0.95, σ=0.1),0.5,false,true),[0.345833,0.523138,0.90642,1.0,0.726484,0.895427,1.0,1.0,0.744488,1.0  …  1.0,1.0,0.863241,1.0,1.0,0.953067,0.941373,1.0,0.998923,0.359605],[0.957718,0.991222,0.82486,0.895984,0.0716285,0.99306,0.907345,0.303439,0.0423548,0.039418  …  0.070347,0.936143,0.022613,0.662075,0.159085,1.0,0.938868,1.0,0.0455133,0.508165])),0)])))"
      ]
     },
     "execution_count": 14,
     "metadata": {},
     "output_type": "execute_result"
    }
   ],
   "source": [
    "res3 = bboptimize(obj_short;SearchRange = LooserBounds, MaxSteps = 11e3)"
   ]
  },
  {
   "cell_type": "code",
   "execution_count": 15,
   "metadata": {},
   "outputs": [
    {
     "name": "stdout",
     "output_type": "stream",
     "text": [
      "Results from the short data sequence, 300 observations, used in [Xiang2015] paper:\n"
     ]
    },
    {
     "ename": "LoadError",
     "evalue": "MethodError: no method matching (::DiffEqParamEstim.DiffEqObjective{DiffEqParamEstim.##6#10{Bool,Int64,DiffEqBase.#problem_new_parameters,Array{Any,1},DiffEqBase.ODEProblem{Array{Float64,1},Float64,true,LorenzExample,Void,UniformScaling{Int64}},OrdinaryDiffEq.Tsit5,#my_cost_short},DiffEqParamEstim.##9#13})(::Array{Float64,1}, ::#my_cost_short, ::Array{Float64,1})\u001b[0m\nClosest candidates are:\n  DiffEqObjective(::Any, ::Any) at C:\\Users\\Denis\\.julia\\v0.5\\DiffEqParamEstim\\src\\build_loss_objective.jl:9\n  DiffEqObjective(::Any) at C:\\Users\\Denis\\.julia\\v0.5\\DiffEqParamEstim\\src\\build_loss_objective.jl:8\u001b[0m",
     "output_type": "error",
     "traceback": [
      "MethodError: no method matching (::DiffEqParamEstim.DiffEqObjective{DiffEqParamEstim.##6#10{Bool,Int64,DiffEqBase.#problem_new_parameters,Array{Any,1},DiffEqBase.ODEProblem{Array{Float64,1},Float64,true,LorenzExample,Void,UniformScaling{Int64}},OrdinaryDiffEq.Tsit5,#my_cost_short},DiffEqParamEstim.##9#13})(::Array{Float64,1}, ::#my_cost_short, ::Array{Float64,1})\u001b[0m\nClosest candidates are:\n  DiffEqObjective(::Any, ::Any) at C:\\Users\\Denis\\.julia\\v0.5\\DiffEqParamEstim\\src\\build_loss_objective.jl:9\n  DiffEqObjective(::Any) at C:\\Users\\Denis\\.julia\\v0.5\\DiffEqParamEstim\\src\\build_loss_objective.jl:8\u001b[0m",
      ""
     ]
    }
   ],
   "source": [
    "println(\"Results from the short data sequence, 300 observations, used in [Xiang2015] paper:\")\n",
    "estfitness = obj_short(best_candidate(res1), my_cost_short, t_short)\n",
    "@show (estfitness, best_candidate(res1), best_fitness(res1))\n",
    "datafitness = obj_short(true_params, my_cost_short, t_short)\n",
    "@show (datafitness, true_params)"
   ]
  },
  {
   "cell_type": "code",
   "execution_count": 16,
   "metadata": {},
   "outputs": [
    {
     "name": "stdout",
     "output_type": "stream",
     "text": [
      "Results from the long data sequence, 4000 observations, from Paulo Marques:\n"
     ]
    },
    {
     "ename": "LoadError",
     "evalue": "UndefVarError: nls_estimation not defined",
     "output_type": "error",
     "traceback": [
      "UndefVarError: nls_estimation not defined",
      ""
     ]
    }
   ],
   "source": [
    "println(\"Results from the long data sequence, 4000 observations, from Paulo Marques:\")\n",
    "estfitness = nls_estimation(best_candidate(res2), datastates, t)\n",
    "@show (estfitness, best_candidate(res2), best_fitness(res2))\n",
    "datafitness = nls_estimation(true_params, datastates, t)\n",
    "@show (datafitness, true_params)"
   ]
  },
  {
   "cell_type": "code",
   "execution_count": 17,
   "metadata": {},
   "outputs": [
    {
     "name": "stdout",
     "output_type": "stream",
     "text": [
      "Results from the short data sequence used in [Xiang2015] paper, but with initial looser bounds:\n"
     ]
    },
    {
     "ename": "LoadError",
     "evalue": "UndefVarError: nls_estimation not defined",
     "output_type": "error",
     "traceback": [
      "UndefVarError: nls_estimation not defined",
      ""
     ]
    }
   ],
   "source": [
    "println(\"Results from the short data sequence used in [Xiang2015] paper, but with initial looser bounds:\")\n",
    "estfitness = nls_estimation(best_candidate(res3), datastates_short, t_short)\n",
    "@show (estfitness, best_candidate(res3), best_fitness(res3))\n",
    "datafitness = nls_estimation(true_params, datastates_short, t_short)\n",
    "@show (datafitness, true_params)"
   ]
  }
 ],
 "metadata": {
  "kernelspec": {
   "display_name": "Julia 0.5.1",
   "language": "julia",
   "name": "julia-0.5"
  },
  "language_info": {
   "file_extension": ".jl",
   "mimetype": "application/julia",
   "name": "julia",
   "version": "0.5.1"
  }
 },
 "nbformat": 4,
 "nbformat_minor": 2
}
